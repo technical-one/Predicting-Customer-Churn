{
 "cells": [
  {
   "cell_type": "code",
   "execution_count": 63,
   "id": "b97cf6c3-df8a-405a-9e5d-c29a931b5a3e",
   "metadata": {},
   "outputs": [],
   "source": [
    "import pandas as pd\n",
    "import numpy as np\n",
    "import seaborn as sns\n",
    "from sklearn.metrics import accuracy_score, precision_score, recall_score, f1_score, roc_auc_score\n",
    "from sklearn.preprocessing import LabelEncoder\n",
    "from sklearn import tree\n",
    "from sklearn.model_selection import train_test_split\n",
    "from sklearn.tree import DecisionTreeClassifier"
   ]
  },
  {
   "cell_type": "code",
   "execution_count": 64,
   "id": "ac90b5a4-33c9-48d0-b59d-2958b11fcf74",
   "metadata": {},
   "outputs": [],
   "source": [
    "dataset=pd.read_csv(\"C://Users//vjoff//OneDrive//Desktop//WA_Fn-UseC_-Telco-Customer-Churn.csv\")"
   ]
  },
  {
   "cell_type": "code",
   "execution_count": 65,
   "id": "5df02289-7bec-4c21-940c-0f732c81d28f",
   "metadata": {},
   "outputs": [],
   "source": [
    "inputs = dataset.drop([\"Churn\",\"customerID\",\"gender\"],axis=\"columns\")"
   ]
  },
  {
   "cell_type": "code",
   "execution_count": 66,
   "id": "f1102128-5926-4d6a-82f9-2f5bf5d945e4",
   "metadata": {},
   "outputs": [],
   "source": [
    "l_SeniorCitizen = LabelEncoder()\n",
    "l_Partner = LabelEncoder()\n",
    "l_Dependents = LabelEncoder()\n",
    "l_tenure = LabelEncoder()\n",
    "l_PhoneService = LabelEncoder()\n",
    "l_MultipleLines = LabelEncoder()\n",
    "l_InternetService = LabelEncoder()\n",
    "l_OnlineSecurity = LabelEncoder()\n",
    "l_OnlineBackup = LabelEncoder()\n",
    "l_DeviceProtection = LabelEncoder()\n",
    "l_TechSupport = LabelEncoder()\n",
    "l_StreamingTV = LabelEncoder()\n",
    "l_StreamingMovies = LabelEncoder()\n",
    "l_Contract = LabelEncoder()\n",
    "l_PaperlessBilling = LabelEncoder()\n",
    "l_PaymentMethod = LabelEncoder()\n",
    "l_MonthlyCharges = LabelEncoder()\n",
    "l_TotalCharges = LabelEncoder()"
   ]
  },
  {
   "cell_type": "code",
   "execution_count": 67,
   "id": "865ac8dd-45fc-4b32-9e5c-796eac31d7e9",
   "metadata": {},
   "outputs": [],
   "source": [
    "inputs[\"SeniorCitizen_n\"] = l_SeniorCitizen.fit_transform(inputs[\"SeniorCitizen\"])\n",
    "inputs[\"Partner_n\"] = l_SeniorCitizen.fit_transform(inputs[\"Partner\"])\n",
    "inputs[\"Dependents_n\"] = l_SeniorCitizen.fit_transform(inputs[\"Dependents\"])\n",
    "inputs[\"tenure_n\"] = l_SeniorCitizen.fit_transform(inputs[\"tenure\"])\n",
    "inputs[\"PhoneService_n\"] = l_SeniorCitizen.fit_transform(inputs[\"PhoneService\"])\n",
    "inputs[\"MultipleLines_n\"] = l_SeniorCitizen.fit_transform(inputs[\"MultipleLines\"])\n",
    "inputs[\"InternetService_n\"] = l_SeniorCitizen.fit_transform(inputs[\"InternetService\"])\n",
    "inputs[\"OnlineSecurity_n\"] = l_SeniorCitizen.fit_transform(inputs[\"OnlineSecurity\"])\n",
    "inputs[\"OnlineBackup_n\"] = l_SeniorCitizen.fit_transform(inputs[\"OnlineBackup\"])\n",
    "inputs[\"DeviceProtection_n\"] = l_SeniorCitizen.fit_transform(inputs[\"DeviceProtection\"])\n",
    "inputs[\"TechSupport_n\"] = l_SeniorCitizen.fit_transform(inputs[\"TechSupport\"])\n",
    "inputs[\"StreamingTV_n\"] = l_SeniorCitizen.fit_transform(inputs[\"StreamingTV\"])\n",
    "inputs[\"StreamingMovies_n\"] = l_SeniorCitizen.fit_transform(inputs[\"StreamingMovies\"])\n",
    "inputs[\"Contract_n\"] = l_SeniorCitizen.fit_transform(inputs[\"Contract\"])\n",
    "inputs[\"PaperlessBilling_n\"] = l_SeniorCitizen.fit_transform(inputs[\"PaperlessBilling\"])\n",
    "inputs[\"PaymentMethod_n\"] = l_SeniorCitizen.fit_transform(inputs[\"PaymentMethod\"])\n",
    "inputs[\"MonthlyCharges_n\"] = l_SeniorCitizen.fit_transform(inputs[\"MonthlyCharges\"])\n",
    "inputs[\"TotalCharges_n\"] = l_SeniorCitizen.fit_transform(inputs[\"TotalCharges\"])"
   ]
  },
  {
   "cell_type": "code",
   "execution_count": 68,
   "id": "722368b5-9192-4a75-bb3c-1d36cb9fd144",
   "metadata": {},
   "outputs": [
    {
     "data": {
      "text/html": [
       "<div>\n",
       "<style scoped>\n",
       "    .dataframe tbody tr th:only-of-type {\n",
       "        vertical-align: middle;\n",
       "    }\n",
       "\n",
       "    .dataframe tbody tr th {\n",
       "        vertical-align: top;\n",
       "    }\n",
       "\n",
       "    .dataframe thead th {\n",
       "        text-align: right;\n",
       "    }\n",
       "</style>\n",
       "<table border=\"1\" class=\"dataframe\">\n",
       "  <thead>\n",
       "    <tr style=\"text-align: right;\">\n",
       "      <th></th>\n",
       "      <th>SeniorCitizen_n</th>\n",
       "      <th>Partner_n</th>\n",
       "      <th>Dependents_n</th>\n",
       "      <th>tenure_n</th>\n",
       "      <th>PhoneService_n</th>\n",
       "      <th>MultipleLines_n</th>\n",
       "      <th>InternetService_n</th>\n",
       "      <th>OnlineSecurity_n</th>\n",
       "      <th>OnlineBackup_n</th>\n",
       "      <th>DeviceProtection_n</th>\n",
       "      <th>TechSupport_n</th>\n",
       "      <th>StreamingTV_n</th>\n",
       "      <th>StreamingMovies_n</th>\n",
       "      <th>Contract_n</th>\n",
       "      <th>PaperlessBilling_n</th>\n",
       "      <th>PaymentMethod_n</th>\n",
       "      <th>MonthlyCharges_n</th>\n",
       "      <th>TotalCharges_n</th>\n",
       "    </tr>\n",
       "  </thead>\n",
       "  <tbody>\n",
       "    <tr>\n",
       "      <th>0</th>\n",
       "      <td>0</td>\n",
       "      <td>1</td>\n",
       "      <td>0</td>\n",
       "      <td>1</td>\n",
       "      <td>0</td>\n",
       "      <td>1</td>\n",
       "      <td>0</td>\n",
       "      <td>0</td>\n",
       "      <td>2</td>\n",
       "      <td>0</td>\n",
       "      <td>0</td>\n",
       "      <td>0</td>\n",
       "      <td>0</td>\n",
       "      <td>0</td>\n",
       "      <td>1</td>\n",
       "      <td>2</td>\n",
       "      <td>142</td>\n",
       "      <td>2505</td>\n",
       "    </tr>\n",
       "    <tr>\n",
       "      <th>1</th>\n",
       "      <td>0</td>\n",
       "      <td>0</td>\n",
       "      <td>0</td>\n",
       "      <td>34</td>\n",
       "      <td>1</td>\n",
       "      <td>0</td>\n",
       "      <td>0</td>\n",
       "      <td>2</td>\n",
       "      <td>0</td>\n",
       "      <td>2</td>\n",
       "      <td>0</td>\n",
       "      <td>0</td>\n",
       "      <td>0</td>\n",
       "      <td>1</td>\n",
       "      <td>0</td>\n",
       "      <td>3</td>\n",
       "      <td>498</td>\n",
       "      <td>1466</td>\n",
       "    </tr>\n",
       "    <tr>\n",
       "      <th>2</th>\n",
       "      <td>0</td>\n",
       "      <td>0</td>\n",
       "      <td>0</td>\n",
       "      <td>2</td>\n",
       "      <td>1</td>\n",
       "      <td>0</td>\n",
       "      <td>0</td>\n",
       "      <td>2</td>\n",
       "      <td>2</td>\n",
       "      <td>0</td>\n",
       "      <td>0</td>\n",
       "      <td>0</td>\n",
       "      <td>0</td>\n",
       "      <td>0</td>\n",
       "      <td>1</td>\n",
       "      <td>3</td>\n",
       "      <td>436</td>\n",
       "      <td>157</td>\n",
       "    </tr>\n",
       "    <tr>\n",
       "      <th>3</th>\n",
       "      <td>0</td>\n",
       "      <td>0</td>\n",
       "      <td>0</td>\n",
       "      <td>45</td>\n",
       "      <td>0</td>\n",
       "      <td>1</td>\n",
       "      <td>0</td>\n",
       "      <td>2</td>\n",
       "      <td>0</td>\n",
       "      <td>2</td>\n",
       "      <td>2</td>\n",
       "      <td>0</td>\n",
       "      <td>0</td>\n",
       "      <td>1</td>\n",
       "      <td>0</td>\n",
       "      <td>0</td>\n",
       "      <td>266</td>\n",
       "      <td>1400</td>\n",
       "    </tr>\n",
       "    <tr>\n",
       "      <th>4</th>\n",
       "      <td>0</td>\n",
       "      <td>0</td>\n",
       "      <td>0</td>\n",
       "      <td>2</td>\n",
       "      <td>1</td>\n",
       "      <td>0</td>\n",
       "      <td>1</td>\n",
       "      <td>0</td>\n",
       "      <td>0</td>\n",
       "      <td>0</td>\n",
       "      <td>0</td>\n",
       "      <td>0</td>\n",
       "      <td>0</td>\n",
       "      <td>0</td>\n",
       "      <td>1</td>\n",
       "      <td>2</td>\n",
       "      <td>729</td>\n",
       "      <td>925</td>\n",
       "    </tr>\n",
       "    <tr>\n",
       "      <th>...</th>\n",
       "      <td>...</td>\n",
       "      <td>...</td>\n",
       "      <td>...</td>\n",
       "      <td>...</td>\n",
       "      <td>...</td>\n",
       "      <td>...</td>\n",
       "      <td>...</td>\n",
       "      <td>...</td>\n",
       "      <td>...</td>\n",
       "      <td>...</td>\n",
       "      <td>...</td>\n",
       "      <td>...</td>\n",
       "      <td>...</td>\n",
       "      <td>...</td>\n",
       "      <td>...</td>\n",
       "      <td>...</td>\n",
       "      <td>...</td>\n",
       "      <td>...</td>\n",
       "    </tr>\n",
       "    <tr>\n",
       "      <th>7038</th>\n",
       "      <td>0</td>\n",
       "      <td>1</td>\n",
       "      <td>1</td>\n",
       "      <td>24</td>\n",
       "      <td>1</td>\n",
       "      <td>2</td>\n",
       "      <td>0</td>\n",
       "      <td>2</td>\n",
       "      <td>0</td>\n",
       "      <td>2</td>\n",
       "      <td>2</td>\n",
       "      <td>2</td>\n",
       "      <td>2</td>\n",
       "      <td>1</td>\n",
       "      <td>1</td>\n",
       "      <td>3</td>\n",
       "      <td>991</td>\n",
       "      <td>1597</td>\n",
       "    </tr>\n",
       "    <tr>\n",
       "      <th>7039</th>\n",
       "      <td>0</td>\n",
       "      <td>1</td>\n",
       "      <td>1</td>\n",
       "      <td>72</td>\n",
       "      <td>1</td>\n",
       "      <td>2</td>\n",
       "      <td>1</td>\n",
       "      <td>0</td>\n",
       "      <td>2</td>\n",
       "      <td>2</td>\n",
       "      <td>0</td>\n",
       "      <td>2</td>\n",
       "      <td>2</td>\n",
       "      <td>1</td>\n",
       "      <td>1</td>\n",
       "      <td>1</td>\n",
       "      <td>1340</td>\n",
       "      <td>5698</td>\n",
       "    </tr>\n",
       "    <tr>\n",
       "      <th>7040</th>\n",
       "      <td>0</td>\n",
       "      <td>1</td>\n",
       "      <td>1</td>\n",
       "      <td>11</td>\n",
       "      <td>0</td>\n",
       "      <td>1</td>\n",
       "      <td>0</td>\n",
       "      <td>2</td>\n",
       "      <td>0</td>\n",
       "      <td>0</td>\n",
       "      <td>0</td>\n",
       "      <td>0</td>\n",
       "      <td>0</td>\n",
       "      <td>0</td>\n",
       "      <td>1</td>\n",
       "      <td>2</td>\n",
       "      <td>137</td>\n",
       "      <td>2994</td>\n",
       "    </tr>\n",
       "    <tr>\n",
       "      <th>7041</th>\n",
       "      <td>1</td>\n",
       "      <td>1</td>\n",
       "      <td>0</td>\n",
       "      <td>4</td>\n",
       "      <td>1</td>\n",
       "      <td>2</td>\n",
       "      <td>1</td>\n",
       "      <td>0</td>\n",
       "      <td>0</td>\n",
       "      <td>0</td>\n",
       "      <td>0</td>\n",
       "      <td>0</td>\n",
       "      <td>0</td>\n",
       "      <td>0</td>\n",
       "      <td>1</td>\n",
       "      <td>3</td>\n",
       "      <td>795</td>\n",
       "      <td>2660</td>\n",
       "    </tr>\n",
       "    <tr>\n",
       "      <th>7042</th>\n",
       "      <td>0</td>\n",
       "      <td>0</td>\n",
       "      <td>0</td>\n",
       "      <td>66</td>\n",
       "      <td>1</td>\n",
       "      <td>0</td>\n",
       "      <td>1</td>\n",
       "      <td>2</td>\n",
       "      <td>0</td>\n",
       "      <td>2</td>\n",
       "      <td>2</td>\n",
       "      <td>2</td>\n",
       "      <td>2</td>\n",
       "      <td>2</td>\n",
       "      <td>1</td>\n",
       "      <td>0</td>\n",
       "      <td>1388</td>\n",
       "      <td>5407</td>\n",
       "    </tr>\n",
       "  </tbody>\n",
       "</table>\n",
       "<p>7043 rows × 18 columns</p>\n",
       "</div>"
      ],
      "text/plain": [
       "      SeniorCitizen_n  Partner_n  Dependents_n  tenure_n  PhoneService_n  \\\n",
       "0                   0          1             0         1               0   \n",
       "1                   0          0             0        34               1   \n",
       "2                   0          0             0         2               1   \n",
       "3                   0          0             0        45               0   \n",
       "4                   0          0             0         2               1   \n",
       "...               ...        ...           ...       ...             ...   \n",
       "7038                0          1             1        24               1   \n",
       "7039                0          1             1        72               1   \n",
       "7040                0          1             1        11               0   \n",
       "7041                1          1             0         4               1   \n",
       "7042                0          0             0        66               1   \n",
       "\n",
       "      MultipleLines_n  InternetService_n  OnlineSecurity_n  OnlineBackup_n  \\\n",
       "0                   1                  0                 0               2   \n",
       "1                   0                  0                 2               0   \n",
       "2                   0                  0                 2               2   \n",
       "3                   1                  0                 2               0   \n",
       "4                   0                  1                 0               0   \n",
       "...               ...                ...               ...             ...   \n",
       "7038                2                  0                 2               0   \n",
       "7039                2                  1                 0               2   \n",
       "7040                1                  0                 2               0   \n",
       "7041                2                  1                 0               0   \n",
       "7042                0                  1                 2               0   \n",
       "\n",
       "      DeviceProtection_n  TechSupport_n  StreamingTV_n  StreamingMovies_n  \\\n",
       "0                      0              0              0                  0   \n",
       "1                      2              0              0                  0   \n",
       "2                      0              0              0                  0   \n",
       "3                      2              2              0                  0   \n",
       "4                      0              0              0                  0   \n",
       "...                  ...            ...            ...                ...   \n",
       "7038                   2              2              2                  2   \n",
       "7039                   2              0              2                  2   \n",
       "7040                   0              0              0                  0   \n",
       "7041                   0              0              0                  0   \n",
       "7042                   2              2              2                  2   \n",
       "\n",
       "      Contract_n  PaperlessBilling_n  PaymentMethod_n  MonthlyCharges_n  \\\n",
       "0              0                   1                2               142   \n",
       "1              1                   0                3               498   \n",
       "2              0                   1                3               436   \n",
       "3              1                   0                0               266   \n",
       "4              0                   1                2               729   \n",
       "...          ...                 ...              ...               ...   \n",
       "7038           1                   1                3               991   \n",
       "7039           1                   1                1              1340   \n",
       "7040           0                   1                2               137   \n",
       "7041           0                   1                3               795   \n",
       "7042           2                   1                0              1388   \n",
       "\n",
       "      TotalCharges_n  \n",
       "0               2505  \n",
       "1               1466  \n",
       "2                157  \n",
       "3               1400  \n",
       "4                925  \n",
       "...              ...  \n",
       "7038            1597  \n",
       "7039            5698  \n",
       "7040            2994  \n",
       "7041            2660  \n",
       "7042            5407  \n",
       "\n",
       "[7043 rows x 18 columns]"
      ]
     },
     "execution_count": 68,
     "metadata": {},
     "output_type": "execute_result"
    }
   ],
   "source": [
    "inputs_n = inputs.drop([\"SeniorCitizen\",\"Partner\",\"Dependents\",\"tenure\",\"PhoneService\",\"MultipleLines\",\"InternetService\",\"OnlineSecurity\",\"OnlineBackup\",\"DeviceProtection\",\"TechSupport\",\"StreamingTV\",\"StreamingMovies\",\"Contract\",\"PaperlessBilling\",\"PaymentMethod\",\"MonthlyCharges\",\"TotalCharges\"],axis = \"columns\")\n",
    "inputs_n"
   ]
  },
  {
   "cell_type": "code",
   "execution_count": 69,
   "id": "153da608-12ba-4262-8196-ddff00e38907",
   "metadata": {},
   "outputs": [],
   "source": [
    "y = dataset.Churn.values"
   ]
  },
  {
   "cell_type": "code",
   "execution_count": 70,
   "id": "f9ec41a0-c1c0-46f1-9e6f-c0b7727a1f5f",
   "metadata": {},
   "outputs": [],
   "source": [
    "x_train, x_test, y_train, y_test = train_test_split(inputs_n, y, test_size = 0.3, random_state = 42)"
   ]
  },
  {
   "cell_type": "code",
   "execution_count": 71,
   "id": "2cc946ea-0725-47cd-ba58-7556f0a113ff",
   "metadata": {},
   "outputs": [],
   "source": [
    "dt = DecisionTreeClassifier()"
   ]
  },
  {
   "cell_type": "code",
   "execution_count": 72,
   "id": "df107a98-c502-4f9d-b359-b16fb8217fcf",
   "metadata": {},
   "outputs": [
    {
     "data": {
      "text/html": [
       "<style>#sk-container-id-2 {color: black;background-color: white;}#sk-container-id-2 pre{padding: 0;}#sk-container-id-2 div.sk-toggleable {background-color: white;}#sk-container-id-2 label.sk-toggleable__label {cursor: pointer;display: block;width: 100%;margin-bottom: 0;padding: 0.3em;box-sizing: border-box;text-align: center;}#sk-container-id-2 label.sk-toggleable__label-arrow:before {content: \"▸\";float: left;margin-right: 0.25em;color: #696969;}#sk-container-id-2 label.sk-toggleable__label-arrow:hover:before {color: black;}#sk-container-id-2 div.sk-estimator:hover label.sk-toggleable__label-arrow:before {color: black;}#sk-container-id-2 div.sk-toggleable__content {max-height: 0;max-width: 0;overflow: hidden;text-align: left;background-color: #f0f8ff;}#sk-container-id-2 div.sk-toggleable__content pre {margin: 0.2em;color: black;border-radius: 0.25em;background-color: #f0f8ff;}#sk-container-id-2 input.sk-toggleable__control:checked~div.sk-toggleable__content {max-height: 200px;max-width: 100%;overflow: auto;}#sk-container-id-2 input.sk-toggleable__control:checked~label.sk-toggleable__label-arrow:before {content: \"▾\";}#sk-container-id-2 div.sk-estimator input.sk-toggleable__control:checked~label.sk-toggleable__label {background-color: #d4ebff;}#sk-container-id-2 div.sk-label input.sk-toggleable__control:checked~label.sk-toggleable__label {background-color: #d4ebff;}#sk-container-id-2 input.sk-hidden--visually {border: 0;clip: rect(1px 1px 1px 1px);clip: rect(1px, 1px, 1px, 1px);height: 1px;margin: -1px;overflow: hidden;padding: 0;position: absolute;width: 1px;}#sk-container-id-2 div.sk-estimator {font-family: monospace;background-color: #f0f8ff;border: 1px dotted black;border-radius: 0.25em;box-sizing: border-box;margin-bottom: 0.5em;}#sk-container-id-2 div.sk-estimator:hover {background-color: #d4ebff;}#sk-container-id-2 div.sk-parallel-item::after {content: \"\";width: 100%;border-bottom: 1px solid gray;flex-grow: 1;}#sk-container-id-2 div.sk-label:hover label.sk-toggleable__label {background-color: #d4ebff;}#sk-container-id-2 div.sk-serial::before {content: \"\";position: absolute;border-left: 1px solid gray;box-sizing: border-box;top: 0;bottom: 0;left: 50%;z-index: 0;}#sk-container-id-2 div.sk-serial {display: flex;flex-direction: column;align-items: center;background-color: white;padding-right: 0.2em;padding-left: 0.2em;position: relative;}#sk-container-id-2 div.sk-item {position: relative;z-index: 1;}#sk-container-id-2 div.sk-parallel {display: flex;align-items: stretch;justify-content: center;background-color: white;position: relative;}#sk-container-id-2 div.sk-item::before, #sk-container-id-2 div.sk-parallel-item::before {content: \"\";position: absolute;border-left: 1px solid gray;box-sizing: border-box;top: 0;bottom: 0;left: 50%;z-index: -1;}#sk-container-id-2 div.sk-parallel-item {display: flex;flex-direction: column;z-index: 1;position: relative;background-color: white;}#sk-container-id-2 div.sk-parallel-item:first-child::after {align-self: flex-end;width: 50%;}#sk-container-id-2 div.sk-parallel-item:last-child::after {align-self: flex-start;width: 50%;}#sk-container-id-2 div.sk-parallel-item:only-child::after {width: 0;}#sk-container-id-2 div.sk-dashed-wrapped {border: 1px dashed gray;margin: 0 0.4em 0.5em 0.4em;box-sizing: border-box;padding-bottom: 0.4em;background-color: white;}#sk-container-id-2 div.sk-label label {font-family: monospace;font-weight: bold;display: inline-block;line-height: 1.2em;}#sk-container-id-2 div.sk-label-container {text-align: center;}#sk-container-id-2 div.sk-container {/* jupyter's `normalize.less` sets `[hidden] { display: none; }` but bootstrap.min.css set `[hidden] { display: none !important; }` so we also need the `!important` here to be able to override the default hidden behavior on the sphinx rendered scikit-learn.org. See: https://github.com/scikit-learn/scikit-learn/issues/21755 */display: inline-block !important;position: relative;}#sk-container-id-2 div.sk-text-repr-fallback {display: none;}</style><div id=\"sk-container-id-2\" class=\"sk-top-container\"><div class=\"sk-text-repr-fallback\"><pre>DecisionTreeClassifier()</pre><b>In a Jupyter environment, please rerun this cell to show the HTML representation or trust the notebook. <br />On GitHub, the HTML representation is unable to render, please try loading this page with nbviewer.org.</b></div><div class=\"sk-container\" hidden><div class=\"sk-item\"><div class=\"sk-estimator sk-toggleable\"><input class=\"sk-toggleable__control sk-hidden--visually\" id=\"sk-estimator-id-2\" type=\"checkbox\" checked><label for=\"sk-estimator-id-2\" class=\"sk-toggleable__label sk-toggleable__label-arrow\">DecisionTreeClassifier</label><div class=\"sk-toggleable__content\"><pre>DecisionTreeClassifier()</pre></div></div></div></div></div>"
      ],
      "text/plain": [
       "DecisionTreeClassifier()"
      ]
     },
     "execution_count": 72,
     "metadata": {},
     "output_type": "execute_result"
    }
   ],
   "source": [
    "dt.fit(x_train, y_train)"
   ]
  },
  {
   "cell_type": "code",
   "execution_count": 73,
   "id": "8cd41b3e-1888-4962-b9fe-902809f6089c",
   "metadata": {},
   "outputs": [
    {
     "data": {
      "text/plain": [
       "0.7401798390913393"
      ]
     },
     "execution_count": 73,
     "metadata": {},
     "output_type": "execute_result"
    }
   ],
   "source": [
    "dt.score(x_test, y_test)"
   ]
  },
  {
   "cell_type": "code",
   "execution_count": 74,
   "id": "a05c0d4b-9bb0-4b1d-8cd6-88bf13732171",
   "metadata": {},
   "outputs": [
    {
     "name": "stderr",
     "output_type": "stream",
     "text": [
      "C:\\Users\\vjoff\\anaconda3\\Lib\\site-packages\\sklearn\\base.py:439: UserWarning: X does not have valid feature names, but DecisionTreeClassifier was fitted with feature names\n",
      "  warnings.warn(\n"
     ]
    },
    {
     "data": {
      "text/plain": [
       "array(['Yes'], dtype=object)"
      ]
     },
     "execution_count": 74,
     "metadata": {},
     "output_type": "execute_result"
    }
   ],
   "source": [
    "dt.predict([[0,0,0,2,1,0,0,2,2,1,1,0,0,0,1,3,300,400]])"
   ]
  },
  {
   "cell_type": "code",
   "execution_count": 75,
   "id": "921b70fa-91f3-4168-b1bd-2138ec9078a2",
   "metadata": {},
   "outputs": [],
   "source": [
    "y_pred=dt.predict(x_test)"
   ]
  },
  {
   "cell_type": "code",
   "execution_count": 76,
   "id": "7aaec57d-44d1-48a9-9335-165287ec7390",
   "metadata": {},
   "outputs": [],
   "source": [
    "acc=accuracy_score(y_test,y_pred)"
   ]
  },
  {
   "cell_type": "code",
   "execution_count": 77,
   "id": "849f3f6f-3a34-43c4-b5ed-7ac490cd2f60",
   "metadata": {},
   "outputs": [
    {
     "data": {
      "text/plain": [
       "0.7401798390913393"
      ]
     },
     "execution_count": 77,
     "metadata": {},
     "output_type": "execute_result"
    }
   ],
   "source": [
    "acc"
   ]
  },
  {
   "cell_type": "code",
   "execution_count": 78,
   "id": "bcd37acb-9b90-4be3-a492-a2ce29e91fee",
   "metadata": {},
   "outputs": [],
   "source": [
    "precision = precision_score(y_test, y_pred, pos_label='Yes')"
   ]
  },
  {
   "cell_type": "code",
   "execution_count": 79,
   "id": "8c4a66f1-8cc3-4b24-8022-a8d1581ecbab",
   "metadata": {},
   "outputs": [
    {
     "data": {
      "text/plain": [
       "0.5223613595706619"
      ]
     },
     "execution_count": 79,
     "metadata": {},
     "output_type": "execute_result"
    }
   ],
   "source": [
    "precision"
   ]
  },
  {
   "cell_type": "code",
   "execution_count": 80,
   "id": "72e7cbcd-76e6-4221-b1c9-f36073a19b1d",
   "metadata": {},
   "outputs": [],
   "source": [
    "recall = recall_score(y_test,y_pred, pos_label='Yes')"
   ]
  },
  {
   "cell_type": "code",
   "execution_count": 81,
   "id": "3922d07e-407c-468c-b191-cde1c3f71c90",
   "metadata": {},
   "outputs": [
    {
     "data": {
      "text/plain": [
       "0.5087108013937283"
      ]
     },
     "execution_count": 81,
     "metadata": {},
     "output_type": "execute_result"
    }
   ],
   "source": [
    "recall"
   ]
  },
  {
   "cell_type": "code",
   "execution_count": 82,
   "id": "d8bf08cf-a68f-47a9-967f-2918c7368ef1",
   "metadata": {},
   "outputs": [],
   "source": [
    "f1 = f1_score(y_test,y_pred, pos_label='Yes')"
   ]
  },
  {
   "cell_type": "code",
   "execution_count": 83,
   "id": "381944f4-24ec-412b-bb86-04f7fc97fffb",
   "metadata": {},
   "outputs": [
    {
     "data": {
      "text/plain": [
       "0.5154457193292143"
      ]
     },
     "execution_count": 83,
     "metadata": {},
     "output_type": "execute_result"
    }
   ],
   "source": [
    "f1"
   ]
  }
 ],
 "metadata": {
  "kernelspec": {
   "display_name": "Python 3 (ipykernel)",
   "language": "python",
   "name": "python3"
  },
  "language_info": {
   "codemirror_mode": {
    "name": "ipython",
    "version": 3
   },
   "file_extension": ".py",
   "mimetype": "text/x-python",
   "name": "python",
   "nbconvert_exporter": "python",
   "pygments_lexer": "ipython3",
   "version": "3.11.7"
  }
 },
 "nbformat": 4,
 "nbformat_minor": 5
}
